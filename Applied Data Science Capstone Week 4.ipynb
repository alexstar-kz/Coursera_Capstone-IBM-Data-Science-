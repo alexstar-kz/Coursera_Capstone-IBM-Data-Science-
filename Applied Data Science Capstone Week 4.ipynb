{
    "cells": [
        {
            "cell_type": "markdown",
            "metadata": {
                "collapsed": true
            },
            "source": "# Housing Sales Prices & Venues Data Analysis of Almaty"
        },
        {
            "cell_type": "markdown",
            "metadata": {},
            "source": "## 1. A description of the problem and a discussion of the background."
        },
        {
            "cell_type": "markdown",
            "metadata": {},
            "source": "Almaty is the largest city in Kazakhstan, with a population of about 2.000.000 people (about 11% of the country's total population) and it has a population density of 2.636 people per square kilometer. As a resident of this city, I decided to use Almaty in my project. The city is divided into 8 districts in total. Almaty generates approximately 20 per cent of Kazakhstan's GDP. The nation is the most powerful economically in Central Asia and Almaty is a key financial center. The economy of Almaty city and Almaty Region continues to grow, and is expected to increase by nearly 6.5 percent per year. As you can see from the figures, Almaty is a city with a high population density and it has a big investment potential. \n\nFrom the investors point of view, we expect from them to prefer the districts where there is a lower real estate cost, high population density and the type of business they want to install is less intense. And from the city resident point of view, it's mostly valuable to chose districts where real estate values are lower and the social places density is high.\n\nHowever, it is difficult to obtain information that will guide investors in this direction, nowadays. When we consider all these problems, we can create a map and information chart where the real estate index is placed on Almaty and each district is clustered according to the venue density."
        },
        {
            "cell_type": "markdown",
            "metadata": {},
            "source": "## 2. A description of the data and how it will be used to solve the problem."
        },
        {
            "cell_type": "markdown",
            "metadata": {},
            "source": "To solve the problem I will use below data:\n\n - I found the Second-level Administrative Divisions of the Kazakhstan from Spatial Data Repository of NYU. The .json file has coordinates of the all city of Kazakhstan. I cleaned the data and reduced it to city of Almaty where I used it to create choropleth map of Housing Sales Price Index of Istanbul.\n - I used Forsquare API to get the most common venues of given Borough of Almaty.\n - There are not too many public datas related to demographic and social parameters for the city of Almaty. Therefor you must set-up your own data tables in most cases. In this case, I collected latest per square meter Housing Sales Price (HSP) Averages for each Borough of Almaty from housing retail web page (https://krisha.kz/content/analytics).\n - I used Google Map, \u2018Search Nearby\u2019 option to get the center coordinates of the each Borough."
        }
    ],
    "metadata": {
        "kernelspec": {
            "display_name": "Python 3.6",
            "language": "python",
            "name": "python3"
        },
        "language_info": {
            "codemirror_mode": {
                "name": "ipython",
                "version": 3
            },
            "file_extension": ".py",
            "mimetype": "text/x-python",
            "name": "python",
            "nbconvert_exporter": "python",
            "pygments_lexer": "ipython3",
            "version": "3.6.9"
        }
    },
    "nbformat": 4,
    "nbformat_minor": 1
}